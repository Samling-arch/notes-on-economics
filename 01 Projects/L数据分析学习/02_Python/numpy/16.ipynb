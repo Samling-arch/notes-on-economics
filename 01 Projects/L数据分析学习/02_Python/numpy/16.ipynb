{
  "cells": [
    {
      "cell_type": "raw",
      "metadata": {
        "vscode": {
          "languageId": "raw"
        }
      },
      "source": [
        "# NumPy 数组的比较运算\n",
        "\n",
        "本节课我们将学习 NumPy 数组的比较运算操作。在上一节课中我们学习了算术运算，这节课我们将探索如何进行数组的比较运算。\n",
        "\n",
        "主要内容：\n",
        "1. 基本比较运算符（>, >=, <, <=, ==, !=）\n",
        "2. 布尔索引\n",
        "3. 条件取反操作（~）\n",
        "4. 逻辑运算（与&、或|）\n",
        "\n",
        "视频来源：MathDance (BiliBili: BV14u411h78s)\n"
      ]
    },
    {
      "cell_type": "code",
      "execution_count": null,
      "metadata": {},
      "outputs": [],
      "source": [
        "import numpy as np\n",
        "\n",
        "# 创建一个包含50个0-100之间随机整数的数组\n",
        "nd = np.random.randint(0, 100, size=50)\n",
        "print(\"原始数组：\")\n",
        "print(nd)\n"
      ]
    },
    {
      "cell_type": "raw",
      "metadata": {
        "vscode": {
          "languageId": "raw"
        }
      },
      "source": [
        "# 1. 基本比较运算符\n",
        "\n",
        "NumPy数组支持以下比较运算符：\n",
        "- 大于（>）\n",
        "- 大于等于（>=）\n",
        "- 小于（<）\n",
        "- 小于等于（<=）\n",
        "- 等于（==）\n",
        "- 不等于（!=）\n",
        "\n",
        "比较运算的结果是布尔类型的数组。\n"
      ]
    },
    {
      "cell_type": "code",
      "execution_count": null,
      "metadata": {},
      "outputs": [],
      "source": [
        "# 演示各种比较运算符\n",
        "print(\"大于60的元素：\")\n",
        "print(nd > 60)\n",
        "\n",
        "print(\"\\n大于等于60的元素：\")\n",
        "print(nd >= 60)\n",
        "\n",
        "print(\"\\n小于60的元素：\")\n",
        "print(nd < 60)\n",
        "\n",
        "print(\"\\n小于等于60的元素：\")\n",
        "print(nd <= 60)\n",
        "\n",
        "print(\"\\n等于99的元素：\")\n",
        "print(nd == 99)\n",
        "\n",
        "print(\"\\n不等于50的元素：\")\n",
        "print(nd != 50)\n"
      ]
    },
    {
      "cell_type": "raw",
      "metadata": {
        "vscode": {
          "languageId": "raw"
        }
      },
      "source": [
        "# 2. 布尔索引\n",
        "\n",
        "我们可以使用比较运算的结果作为索引来选择数组中满足条件的元素。这种技术称为布尔索引。\n"
      ]
    },
    {
      "cell_type": "code",
      "execution_count": null,
      "metadata": {},
      "outputs": [],
      "source": [
        "# 使用布尔索引选择大于等于80的元素\n",
        "c = nd >= 80\n",
        "print(\"条件数组（大于等于80）：\")\n",
        "print(c)\n",
        "print(\"\\n满足条件的元素：\")\n",
        "print(nd[c])\n"
      ]
    },
    {
      "cell_type": "raw",
      "metadata": {
        "vscode": {
          "languageId": "raw"
        }
      },
      "source": [
        "# 3. 条件取反操作\n",
        "\n",
        "使用波浪号（~）可以对布尔数组进行取反操作：\n",
        "- True 变成 False\n",
        "- False 变成 True\n"
      ]
    },
    {
      "cell_type": "code",
      "execution_count": null,
      "metadata": {},
      "outputs": [],
      "source": [
        "# 对条件进行取反（选择小于80的元素）\n",
        "print(\"取反后的条件数组：\")\n",
        "print(~c)\n",
        "print(\"\\n取反后满足条件的元素（小于80）：\")\n",
        "print(nd[~c])\n"
      ]
    },
    {
      "cell_type": "raw",
      "metadata": {
        "vscode": {
          "languageId": "raw"
        }
      },
      "source": [
        "# 4. 逻辑运算\n",
        "\n",
        "NumPy支持两种主要的逻辑运算：\n",
        "- 与运算（&）：两个条件都为True时结果为True\n",
        "- 或运算（|）：两个条件中至少有一个为True时结果为True\n"
      ]
    },
    {
      "cell_type": "code",
      "execution_count": null,
      "metadata": {},
      "outputs": [],
      "source": [
        "# 演示逻辑运算\n",
        "condition1 = nd > 50\n",
        "condition2 = nd < 80\n",
        "\n",
        "print(\"大于50且小于80的元素：\")\n",
        "print(nd[condition1 & condition2])\n",
        "\n",
        "print(\"\\n小于50或大于80的元素：\")\n",
        "print(nd[(nd < 50) | (nd > 80)])\n"
      ]
    }
  ],
  "metadata": {
    "kernelspec": {
      "display_name": "Python 3",
      "language": "python",
      "name": "python3"
    },
    "language_info": {
      "name": "python",
      "version": "3.13.1"
    }
  },
  "nbformat": 4,
  "nbformat_minor": 2
}
